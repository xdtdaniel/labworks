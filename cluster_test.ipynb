{
 "cells": [
  {
   "cell_type": "code",
   "execution_count": 38,
   "metadata": {},
   "outputs": [],
   "source": [
    "import sys\n",
    "import pandas as pd\n",
    "from sklearn.model_selection import train_test_split\n",
    "from sklearn.cluster import KMeans\n",
    "from sklearn.cluster import DBSCAN\n",
    "from matplotlib import pyplot as plt\n",
    "import numpy as np"
   ]
  },
  {
   "cell_type": "code",
   "execution_count": 2,
   "metadata": {},
   "outputs": [],
   "source": [
    "ivt = pd.read_csv(\"Aug 5/raw/f1f2_IVT.csv\")\n",
    "old = pd.read_csv(\"Aug 5/raw/Trizol_OLD_8K_070120_GL.csv\")"
   ]
  },
  {
   "cell_type": "code",
   "execution_count": 4,
   "metadata": {},
   "outputs": [
    {
     "name": "stdout",
     "output_type": "stream",
     "text": [
      "                                   read_id  read_id_number  10  11  12  13  \\\n",
      "0     e92bf281-8083-4447-831e-9829eebeb364               0 NaN NaN NaN NaN   \n",
      "1     904ff047-3522-4d35-a4f3-9139c9687c50               1 NaN NaN NaN NaN   \n",
      "2     82a34ef1-4e33-4f03-ae06-c0a920b4f65a               2 NaN NaN NaN NaN   \n",
      "3     65ae0f91-2056-4cff-b0ab-ad6ee2c2affb               3 NaN NaN NaN NaN   \n",
      "4     54a2c40a-f1a1-45f0-8ce7-ff3cb9ace140               4 NaN NaN NaN NaN   \n",
      "5     93b53773-4a9b-41cb-9f03-85f006bff32c               5 NaN NaN NaN NaN   \n",
      "6     00676bde-4b93-45bb-a850-c333e08c9927               6 NaN NaN NaN NaN   \n",
      "7     27bc4f8d-fdbb-4559-9b67-b669d90fb9a8               7 NaN NaN NaN NaN   \n",
      "8     5a9c433f-4241-4f14-ac24-b641d502eedc               8 NaN NaN NaN NaN   \n",
      "9     45ec4492-8cc1-47cb-8237-4ca56902dda4               9 NaN NaN NaN NaN   \n",
      "10    4cbbd5c6-b007-4826-900f-05969a773e63              10 NaN NaN NaN NaN   \n",
      "11    beb0ce55-a932-40da-905c-6b9c764cc18a              11 NaN NaN NaN NaN   \n",
      "12    7f1a0e44-805c-4586-86ed-d7d9437b7245              12 NaN NaN NaN NaN   \n",
      "13    875f5b16-404f-46c5-bf01-52c02cb7831c              13 NaN NaN NaN NaN   \n",
      "14    18227ce2-ba1e-4216-8881-a968f925dba8              14 NaN NaN NaN NaN   \n",
      "15    0dc6951a-9d1c-4dea-bb72-b19df20f705f              15 NaN NaN NaN NaN   \n",
      "16    0c79a52c-e97c-466f-9253-0933c2d8b1d7              16 NaN NaN NaN NaN   \n",
      "17    238b3ac7-14ae-451c-ac89-a28f93259b4b              17 NaN NaN NaN NaN   \n",
      "18    86b1f930-f718-4b22-9b05-637906b4daa0              18 NaN NaN NaN NaN   \n",
      "19    8da6b7d6-c25d-495d-a5cb-5bc0e7e43f38              19 NaN NaN NaN NaN   \n",
      "20    dcda83a0-eb13-4dbc-97b4-e913b211ca4c              20 NaN NaN NaN NaN   \n",
      "21    b1178eea-70c2-4c5f-ab78-f4b15a35ff7a              21 NaN NaN NaN NaN   \n",
      "22    06fcea45-9b1f-4c54-880c-05ca325e5c57              22 NaN NaN NaN NaN   \n",
      "23    3d3994c0-fb42-4db9-93bf-a1ee14777c20              23 NaN NaN NaN NaN   \n",
      "24    d307f7d5-bcbd-46a4-aee8-1d18e691e986              24 NaN NaN NaN NaN   \n",
      "25    cb112d9f-e3fd-4d1d-b6b3-b1484a123a79              25 NaN NaN NaN NaN   \n",
      "26    dc1b02ee-730a-482a-be07-981672b6a8bc              26 NaN NaN NaN NaN   \n",
      "27    4d4bc42a-72d4-433a-8f6b-55eba199900d              27 NaN NaN NaN NaN   \n",
      "28    4aca54aa-d2f4-4124-b6b5-4bcbc8f0ce84              28 NaN NaN NaN NaN   \n",
      "29    cf020085-ae3b-4d99-81ca-91918c8c3343              29 NaN NaN NaN NaN   \n",
      "...                                    ...             ...  ..  ..  ..  ..   \n",
      "1613  f897199f-0afe-4a33-8f02-9fbcab88af63            1613 NaN NaN NaN NaN   \n",
      "1614  cdff7f72-c892-4970-8aa0-cedb0c85232d            1614 NaN NaN NaN NaN   \n",
      "1615  e8fa6ad4-a80b-4e2d-b6e2-f26bf7f6a1ce            1615 NaN NaN NaN NaN   \n",
      "1616  fca7dd1d-95d0-4bfa-922b-0e9c8a96c9ad            1616 NaN NaN NaN NaN   \n",
      "1617  52a9887f-9282-4e4d-906e-f5f4517e14a0            1617 NaN NaN NaN NaN   \n",
      "1618  ff21fe8e-3ec8-4d4a-acaa-634ab659be18            1618 NaN NaN NaN NaN   \n",
      "1619  bdc2b8ef-4b4c-401d-aa74-9b75375f14b7            1619 NaN NaN NaN NaN   \n",
      "1620  43a0a7e5-3065-45c4-8a14-7179733d5ef3            1620 NaN NaN NaN NaN   \n",
      "1621  e3d1710b-8892-40d8-a529-45bf7ac86018            1621 NaN NaN NaN NaN   \n",
      "1622  dbfa26af-9989-478e-be75-7850a0a14b81            1622 NaN NaN NaN NaN   \n",
      "1623  e5013e4a-a145-4485-986e-39e0a6396694            1623 NaN NaN NaN NaN   \n",
      "1624  ab559570-b176-489b-a14d-d9a24252c9a2            1624 NaN NaN NaN NaN   \n",
      "1625  31879f29-0417-4816-910e-4e63f959f9b2            1625 NaN NaN NaN NaN   \n",
      "1626  06f72475-7a88-477b-916d-5825503a1c10            1626 NaN NaN NaN NaN   \n",
      "1627  03fc3d07-93cd-4409-ad33-e9007a9a0e3d            1627 NaN NaN NaN NaN   \n",
      "1628  fbff2239-521e-4cd6-ad35-49ca3feeef40            1628 NaN NaN NaN NaN   \n",
      "1629  a7dadd63-1d22-464a-8930-2e1a4504aceb            1629 NaN NaN NaN NaN   \n",
      "1630  f94aa92c-d75b-4780-9345-0cb513ff4ff8            1630 NaN NaN NaN NaN   \n",
      "1631  788bca3e-0428-4044-ba34-2e5b387d57f7            1631 NaN NaN NaN NaN   \n",
      "1632  6bc0ef01-28ac-46aa-a3b6-f14e58683900            1632 NaN NaN NaN NaN   \n",
      "1633  c5c262a9-acda-4c87-9684-027b600fb1cf            1633 NaN NaN NaN NaN   \n",
      "1634  c67932ec-ce0b-454a-b540-dca6acd707d0            1634 NaN NaN NaN NaN   \n",
      "1635  8c14d2f4-5668-46c9-931f-ef296ce14658            1635 NaN NaN NaN NaN   \n",
      "1636  d90df824-84f2-4adb-8791-df47d08182ff            1636 NaN NaN NaN NaN   \n",
      "1637  3a9cb29b-00e8-404d-a657-fac0ba9477a6            1637 NaN NaN NaN NaN   \n",
      "1638  af024b9a-8037-4e14-9244-4880fa5dcd8d            1638 NaN NaN NaN NaN   \n",
      "1639  b0b3ba37-90a0-4be1-b8be-eece3ea77e3f            1639 NaN NaN NaN NaN   \n",
      "1640  de86685c-2749-4e31-a4c5-ab4e6c014634            1640 NaN NaN NaN NaN   \n",
      "1641  2fc9a29f-0c4f-4f96-a60e-789718616e9a            1641 NaN NaN NaN NaN   \n",
      "1642  e9b5ac04-f4ae-45de-9866-27cd86768724            1642 NaN NaN NaN NaN   \n",
      "\n",
      "            14            15            16            17    ...         9158  \\\n",
      "0          NaN           NaN  4.956741e-03  9.633791e-01    ...     0.493232   \n",
      "1          NaN           NaN           NaN           NaN    ...          NaN   \n",
      "2          NaN           NaN           NaN           NaN    ...     0.000501   \n",
      "3          NaN           NaN  9.962170e-01  9.975399e-01    ...     0.996745   \n",
      "4          NaN           NaN           NaN           NaN    ...     0.000471   \n",
      "5          NaN           NaN  2.304521e-01  9.835471e-01    ...     0.004342   \n",
      "6          NaN           NaN  8.917141e-01  9.171936e-01    ...     0.661625   \n",
      "7          NaN           NaN           NaN           NaN    ...     0.956291   \n",
      "8          NaN  2.475136e-08  1.430074e-02  9.756498e-01    ...     0.649302   \n",
      "9          NaN           NaN  2.224763e-04  7.029223e-01    ...     0.979314   \n",
      "10         NaN           NaN           NaN  8.356231e-01    ...     0.764887   \n",
      "11         NaN           NaN           NaN  7.848389e-01    ...          NaN   \n",
      "12         NaN           NaN  9.525081e-01  9.891335e-01    ...     0.874648   \n",
      "13         NaN           NaN  6.094706e-02  9.969597e-01    ...     0.949538   \n",
      "14         NaN           NaN           NaN           NaN    ...     0.824550   \n",
      "15         NaN           NaN  2.986031e-03  7.845498e-01    ...     0.955948   \n",
      "16         NaN           NaN           NaN           NaN    ...     0.941702   \n",
      "17         NaN           NaN           NaN           NaN    ...     0.926895   \n",
      "18         NaN           NaN           NaN           NaN    ...     0.552321   \n",
      "19         NaN           NaN  8.932563e-01  9.505499e-01    ...     0.696018   \n",
      "20         NaN           NaN           NaN           NaN    ...     0.910350   \n",
      "21         NaN           NaN           NaN           NaN    ...     0.926607   \n",
      "22         NaN           NaN           NaN           NaN    ...          NaN   \n",
      "23         NaN           NaN  2.946796e-02  9.252762e-01    ...     0.828162   \n",
      "24         NaN           NaN           NaN           NaN    ...     0.724359   \n",
      "25         NaN           NaN           NaN           NaN    ...          NaN   \n",
      "26         NaN           NaN           NaN           NaN    ...          NaN   \n",
      "27         NaN           NaN           NaN  8.769291e-01    ...     0.662222   \n",
      "28         NaN           NaN           NaN           NaN    ...     0.182610   \n",
      "29         NaN           NaN           NaN           NaN    ...     0.793586   \n",
      "...        ...           ...           ...           ...    ...          ...   \n",
      "1613       NaN           NaN           NaN           NaN    ...          NaN   \n",
      "1614       NaN           NaN           NaN           NaN    ...     0.511495   \n",
      "1615       NaN           NaN  3.019421e-02  9.829189e-01    ...     0.265897   \n",
      "1616       NaN           NaN           NaN           NaN    ...     0.886333   \n",
      "1617       NaN           NaN           NaN           NaN    ...     0.762682   \n",
      "1618       NaN           NaN           NaN  9.987692e-01    ...     0.966958   \n",
      "1619       NaN           NaN           NaN           NaN    ...          NaN   \n",
      "1620       NaN           NaN           NaN           NaN    ...          NaN   \n",
      "1621       NaN           NaN  2.959020e-03  9.294072e-01    ...     0.959060   \n",
      "1622       NaN           NaN           NaN           NaN    ...     0.034457   \n",
      "1623  0.018616  9.942457e-01  9.888477e-01  9.943476e-01    ...     0.950234   \n",
      "1624       NaN           NaN  7.151630e-02  9.507988e-01    ...     0.921498   \n",
      "1625       NaN           NaN  7.077928e-04  1.768298e-01    ...          NaN   \n",
      "1626       NaN           NaN           NaN           NaN    ...     0.978592   \n",
      "1627       NaN           NaN  2.418421e-02  9.896396e-01    ...     0.478618   \n",
      "1628       NaN  4.836854e-01  9.381261e-01  9.318006e-01    ...          NaN   \n",
      "1629       NaN           NaN           NaN           NaN    ...     0.569439   \n",
      "1630       NaN           NaN           NaN           NaN    ...     0.998072   \n",
      "1631       NaN           NaN           NaN           NaN    ...          NaN   \n",
      "1632       NaN           NaN           NaN           NaN    ...     0.854472   \n",
      "1633       NaN           NaN           NaN           NaN    ...     0.126956   \n",
      "1634       NaN           NaN           NaN  8.236323e-01    ...     0.993441   \n",
      "1635       NaN           NaN           NaN           NaN    ...     0.976197   \n",
      "1636       NaN  1.583610e-02  3.897736e-01  4.067487e-01    ...          NaN   \n",
      "1637       NaN           NaN  6.810726e-27  7.454683e-23    ...          NaN   \n",
      "1638       NaN           NaN           NaN           NaN    ...          NaN   \n",
      "1639       NaN           NaN           NaN           NaN    ...          NaN   \n",
      "1640       NaN           NaN  4.117164e-04  7.139440e-01    ...     0.259417   \n",
      "1641       NaN           NaN           NaN  8.784247e-01    ...     0.097784   \n",
      "1642       NaN           NaN           NaN  8.623922e-01    ...     0.940855   \n",
      "\n",
      "          9159      9160      9161      9162      9163      9164      9165  \\\n",
      "0     0.811808  0.986708  0.991620  0.995332  0.996442  0.999104  0.998137   \n",
      "1          NaN       NaN       NaN       NaN       NaN       NaN       NaN   \n",
      "2     0.010470  0.749705  0.479006       NaN       NaN       NaN       NaN   \n",
      "3     0.867640  0.896574  0.809438  0.670113  0.689045  0.648409  0.465330   \n",
      "4     0.000467  0.000922  0.278765  0.752919  0.707255  0.859905  0.621832   \n",
      "5     0.002023  0.020238  0.286610  0.093872  0.311606  0.275108  0.531425   \n",
      "6     0.743775  0.781075  0.898235  0.980653  0.995298  0.872926  0.604843   \n",
      "7     0.982218  0.978903  0.987657  0.975436  0.973648  0.417390  0.022282   \n",
      "8     0.691332  0.028808  0.032438  0.018892  0.024174  0.038198       NaN   \n",
      "9     0.993848  0.991963  0.996401  0.995845  0.998858  0.993610  0.863716   \n",
      "10    0.721186  0.737957  0.795312  0.989788  0.996836  0.998266       NaN   \n",
      "11         NaN       NaN       NaN       NaN       NaN       NaN       NaN   \n",
      "12    0.884891  0.672368  0.177628  0.128697  0.013420  0.009642  0.006636   \n",
      "13    0.974657  0.979075  0.982040  0.995440  0.999092  0.981553  0.628161   \n",
      "14    0.575066  0.671821  0.459825  0.470508  0.502726  0.546999  0.599809   \n",
      "15    0.872253  0.139971  0.113537  0.194699  0.172513  0.111039  0.100877   \n",
      "16    0.963578  0.656021  0.739578  0.706972  0.674436  0.504667  0.617021   \n",
      "17    0.950287  0.992134  0.989783  0.926590  0.915489  0.938173  0.922108   \n",
      "18    0.676006  0.221662  0.152747  0.430993  0.220368  0.203040  0.141732   \n",
      "19    0.781264  0.934312  0.870382  0.845272  0.847945  0.826557  0.564291   \n",
      "20    0.775745  0.818682  0.371265  0.219448  0.264749  0.055872  0.049188   \n",
      "21    0.926990  0.932276  0.924765  0.926834  0.895180  0.861492  0.447828   \n",
      "22         NaN       NaN       NaN       NaN       NaN       NaN       NaN   \n",
      "23    0.753962  0.820089  0.920522  0.931297  0.951824  0.787808  0.901632   \n",
      "24    0.778399  0.775350  0.831018  0.612815  0.730873  0.621529  0.424236   \n",
      "25         NaN       NaN       NaN       NaN       NaN       NaN       NaN   \n",
      "26         NaN       NaN       NaN       NaN       NaN       NaN       NaN   \n",
      "27    0.634854  0.211675  0.000253  0.001872  0.000251  0.000258  0.000184   \n",
      "28    0.072147  0.098865  0.178055  0.221296  0.142699       NaN       NaN   \n",
      "29    0.762841  0.057970  0.046042  0.046040  0.060999  0.050819  0.042429   \n",
      "...        ...       ...       ...       ...       ...       ...       ...   \n",
      "1613       NaN       NaN       NaN       NaN       NaN       NaN       NaN   \n",
      "1614  0.848350  0.985573  0.968479  0.966293  0.979984  0.993047  0.989345   \n",
      "1615  0.099929  0.000169  0.000151  0.000175  0.000258  0.000307  0.000549   \n",
      "1616  0.929222  0.337806  0.346622  0.345032  0.447306  0.354742  0.343281   \n",
      "1617  0.460075  0.114320  0.102289  0.131363  0.135449  0.193863       NaN   \n",
      "1618  0.995537  0.995302  0.995923       NaN       NaN       NaN       NaN   \n",
      "1619       NaN       NaN       NaN       NaN       NaN       NaN       NaN   \n",
      "1620       NaN       NaN       NaN       NaN       NaN       NaN       NaN   \n",
      "1621  0.975115  0.931063  0.915514  0.875929  0.944530  0.898549  0.834776   \n",
      "1622       NaN       NaN       NaN       NaN       NaN       NaN       NaN   \n",
      "1623  0.854633  0.900059  0.962167  0.959510  0.930686  0.880280  0.527056   \n",
      "1624       NaN       NaN       NaN       NaN       NaN       NaN       NaN   \n",
      "1625       NaN       NaN       NaN       NaN       NaN       NaN       NaN   \n",
      "1626  0.969494  0.080248  0.059754  0.091248  0.081264  0.057475  0.074017   \n",
      "1627  0.467992  0.472690  0.916332  0.819417  0.777053  0.905066  0.876698   \n",
      "1628       NaN       NaN       NaN       NaN       NaN       NaN       NaN   \n",
      "1629  0.717713  0.778132  0.450595  0.362958  0.658345  0.536293  0.361575   \n",
      "1630  0.973236  0.882053  0.879002  0.744216  0.689620  0.678976  0.780383   \n",
      "1631       NaN       NaN       NaN       NaN       NaN       NaN       NaN   \n",
      "1632  0.799975  0.738247  0.770748  0.788062  0.892235  0.845988  0.900853   \n",
      "1633  0.128742  0.614335  0.656062  0.537829  0.551282  0.520902  0.800125   \n",
      "1634  0.981722  0.982933  0.982188  0.902595  0.885603  0.838638  0.746140   \n",
      "1635  0.988119  0.990683  0.997074  0.997142  0.999614  0.997731  0.991408   \n",
      "1636       NaN       NaN       NaN       NaN       NaN       NaN       NaN   \n",
      "1637       NaN       NaN       NaN       NaN       NaN       NaN       NaN   \n",
      "1638       NaN       NaN       NaN       NaN       NaN       NaN       NaN   \n",
      "1639       NaN       NaN       NaN       NaN       NaN       NaN       NaN   \n",
      "1640  0.020634  0.019966  0.029748  0.026124  0.259228  0.277772  0.187822   \n",
      "1641  0.125913  0.646036  0.892665  0.779895  0.609182  0.651626  0.684361   \n",
      "1642  0.789004  0.873272  0.872987  0.884678  0.921162  0.513700  0.306087   \n",
      "\n",
      "              9166      9167  \n",
      "0     9.975826e-01       NaN  \n",
      "1              NaN       NaN  \n",
      "2              NaN       NaN  \n",
      "3     8.611445e-01  0.852306  \n",
      "4     8.020141e-01  0.770374  \n",
      "5     8.025266e-01       NaN  \n",
      "6     6.047097e-01  0.656186  \n",
      "7              NaN       NaN  \n",
      "8              NaN       NaN  \n",
      "9     8.437570e-01       NaN  \n",
      "10             NaN       NaN  \n",
      "11             NaN       NaN  \n",
      "12    6.603291e-03  0.016161  \n",
      "13    6.045979e-01       NaN  \n",
      "14    8.253069e-01       NaN  \n",
      "15    1.433215e-01       NaN  \n",
      "16    5.937621e-01  0.915425  \n",
      "17    9.523516e-01       NaN  \n",
      "18    7.744614e-02       NaN  \n",
      "19    3.376120e-16       NaN  \n",
      "20    7.780158e-02  0.070364  \n",
      "21    3.375824e-01  0.307983  \n",
      "22             NaN       NaN  \n",
      "23    9.594624e-01  0.966282  \n",
      "24    4.223952e-01  0.160174  \n",
      "25             NaN       NaN  \n",
      "26             NaN       NaN  \n",
      "27    2.155468e-04  0.001527  \n",
      "28             NaN       NaN  \n",
      "29    4.203833e-02       NaN  \n",
      "...            ...       ...  \n",
      "1613           NaN       NaN  \n",
      "1614  9.970927e-01  0.996853  \n",
      "1615  1.944343e-03  0.606970  \n",
      "1616           NaN       NaN  \n",
      "1617           NaN       NaN  \n",
      "1618           NaN       NaN  \n",
      "1619           NaN       NaN  \n",
      "1620           NaN       NaN  \n",
      "1621  8.549046e-01  0.897487  \n",
      "1622           NaN       NaN  \n",
      "1623  2.953565e-01       NaN  \n",
      "1624           NaN       NaN  \n",
      "1625           NaN       NaN  \n",
      "1626  7.869338e-02       NaN  \n",
      "1627  8.980853e-01       NaN  \n",
      "1628           NaN       NaN  \n",
      "1629  2.778429e-01  0.307824  \n",
      "1630  9.238911e-01  0.980904  \n",
      "1631           NaN       NaN  \n",
      "1632  8.592788e-01       NaN  \n",
      "1633  7.808444e-01  0.664559  \n",
      "1634  8.521145e-01  0.853524  \n",
      "1635  9.937890e-01  0.990109  \n",
      "1636           NaN       NaN  \n",
      "1637           NaN       NaN  \n",
      "1638           NaN       NaN  \n",
      "1639           NaN       NaN  \n",
      "1640  8.535353e-01  0.823130  \n",
      "1641  6.593094e-01  0.684714  \n",
      "1642  4.943742e-01       NaN  \n",
      "\n",
      "[1643 rows x 9160 columns]\n"
     ]
    }
   ],
   "source": [
    "print(old)"
   ]
  },
  {
   "cell_type": "code",
   "execution_count": 7,
   "metadata": {},
   "outputs": [
    {
     "data": {
      "text/plain": [
       "<Figure size 2880x2160 with 0 Axes>"
      ]
     },
     "execution_count": 7,
     "metadata": {},
     "output_type": "execute_result"
    },
    {
     "data": {
      "text/plain": [
       "<Figure size 2880x2160 with 0 Axes>"
      ]
     },
     "metadata": {},
     "output_type": "display_data"
    }
   ],
   "source": [
    "plt.figure(figsize=(40, 30))\n"
   ]
  },
  {
   "cell_type": "code",
   "execution_count": null,
   "metadata": {},
   "outputs": [],
   "source": [
    "km = KMeans(\n",
    "    n_clusters=2, init='random',\n",
    "    n_init=10, max_iter=300,\n",
    "    tol=1e-04, random_state=0\n",
    ")"
   ]
  },
  {
   "cell_type": "code",
   "execution_count": 6,
   "metadata": {},
   "outputs": [
    {
     "data": {
      "image/png": "[encoded data removed]",
      "text/plain": [
       "<Figure size 432x288 with 1 Axes>"
      ]
     },
     "metadata": {
      "needs_background": "light"
     },
     "output_type": "display_data"
    }
   ],
   "source": []
  },
  {
   "cell_type": "code",
   "execution_count": 4,
   "metadata": {},
   "outputs": [
    {
     "name": "stdout",
     "output_type": "stream",
     "text": [
      "-0.6097926068663433 0.060000000000000005 400 2\n",
      "-0.6908370290160135 0.07 400 2\n",
      "-0.6045266466247541 0.07 500 2\n",
      "-0.6627407822896186 0.08000000000000002 500 2\n",
      "-0.6515890225145627 0.09000000000000001 600 2\n",
      "-0.6908370290160135 0.1 600 2\n",
      "-0.6446326429434506 0.1 700 2\n",
      "-0.6847878017287745 0.11000000000000001 700 2\n",
      "-0.6356210689957579 0.11000000000000001 800 2\n",
      "-0.6787925352318327 0.12000000000000001 800 2\n",
      "-0.6188965091596738 0.12000000000000001 900 2\n",
      "-0.6686318832011855 0.13 900 2\n",
      "-0.6084144837912494 0.13 1000 2\n",
      "-0.6627407822896186 0.14 1000 2\n"
     ]
    }
   ],
   "source": [
    "\n",
    "\n",
    "for eps in np.arange(0.05,0.15,0.01):\n",
    "    for min_samples in range(400, 1001, 100):\n",
    "        db = DBSCAN(eps=eps, min_samples=min_samples)\n",
    "        # time = df.shape[0]\n",
    "        time = 1\n",
    "        for i in range(2, 3):\n",
    "            p_val = df.loc[i][2:]\n",
    "            p_val = np.asarray(p_val)\n",
    "            p_val = p_val[np.logical_not(np.isnan(p_val))]\n",
    "            p_val = np.log(p_val)\n",
    "            y_db = db.fit_predict(p_val.reshape(-1, 1))\n",
    "            \n",
    "            threshold = np.max(p_val[y_db == -1])\n",
    "            n_clusters = len(set(db.labels_))\n",
    "            if n_clusters == 2 and threshold < -0.6 and threshold > -0.7:\n",
    "                print(threshold, eps, min_samples, n_clusters)\n",
    "            \n",
    "            \n",
    "            \n",
    "            # plt.scatter(p_val, [i / 10] * len(p_val), c=y_db)\n",
    "\n",
    "        # plt.show()"
   ]
  },
  {
   "cell_type": "code",
   "execution_count": 67,
   "metadata": {},
   "outputs": [
    {
     "data": {
      "image/png": "[encoded data removed]",
      "text/plain": [
       "<Figure size 432x288 with 1 Axes>"
      ]
     },
     "metadata": {
      "needs_background": "light"
     },
     "output_type": "display_data"
    }
   ],
   "source": [
    "df = ivt\n",
    "\n",
    "db = DBSCAN(eps=0.5, min_samples=500)\n",
    "# time = df.shape[0]\n",
    "time = 1\n",
    "for i in range(1, 2):\n",
    "    p_val = df.loc[70][2:]\n",
    "    \n",
    "    p_val = p_val[np.logical_not(pd.isnull(p_val))]\n",
    "    p_val = pd.to_numeric(p_val, errors='coerce')\n",
    "    p_val = np.asarray(p_val)\n",
    "    p_val = np.log(p_val)\n",
    "    y_db = db.fit_predict(p_val.reshape(-1, 1))\n",
    "\n",
    "    threshold = np.max(p_val[y_db == -1])\n",
    "    n_clusters = len(set(db.labels_))\n",
    "\n",
    "    plt.scatter(range(1300, 1350), p_val[1300:1350], c=y_db[1300:1350])\n",
    "    plt.plot(range(1300, 1350), p_val[1300:1350])\n",
    "    # plt.scatter(range(0, len(p_val)), p_val, c=y_db)\n",
    "\n",
    "plt.show()"
   ]
  },
  {
   "cell_type": "code",
   "execution_count": 39,
   "metadata": {},
   "outputs": [
    {
     "ename": "AttributeError",
     "evalue": "'numpy.float64' object has no attribute 'log'",
     "output_type": "error",
     "traceback": [
      "\u001b[0;31m---------------------------------------------------------------------------\u001b[0m",
      "\u001b[0;31mAttributeError\u001b[0m                            Traceback (most recent call last)",
      "\u001b[0;32m<ipython-input-39-8cbbc08a445a>\u001b[0m in \u001b[0;36m<module>\u001b[0;34m\u001b[0m\n\u001b[1;32m      4\u001b[0m             \u001b[0mp_val\u001b[0m \u001b[0;34m=\u001b[0m \u001b[0mnp\u001b[0m\u001b[0;34m.\u001b[0m\u001b[0masarray\u001b[0m\u001b[0;34m(\u001b[0m\u001b[0mp_val\u001b[0m\u001b[0;34m)\u001b[0m\u001b[0;34m\u001b[0m\u001b[0m\n\u001b[1;32m      5\u001b[0m             \u001b[0mp_val\u001b[0m \u001b[0;34m=\u001b[0m \u001b[0mp_val\u001b[0m\u001b[0;34m[\u001b[0m\u001b[0mnp\u001b[0m\u001b[0;34m.\u001b[0m\u001b[0mlogical_not\u001b[0m\u001b[0;34m(\u001b[0m\u001b[0mpd\u001b[0m\u001b[0;34m.\u001b[0m\u001b[0misnull\u001b[0m\u001b[0;34m(\u001b[0m\u001b[0mp_val\u001b[0m\u001b[0;34m)\u001b[0m\u001b[0;34m)\u001b[0m\u001b[0;34m]\u001b[0m\u001b[0;34m\u001b[0m\u001b[0m\n\u001b[0;32m----> 6\u001b[0;31m             \u001b[0mp_val\u001b[0m \u001b[0;34m=\u001b[0m \u001b[0mnp\u001b[0m\u001b[0;34m.\u001b[0m\u001b[0mlog\u001b[0m\u001b[0;34m(\u001b[0m\u001b[0mp_val\u001b[0m\u001b[0;34m)\u001b[0m\u001b[0;34m\u001b[0m\u001b[0m\n\u001b[0m\u001b[1;32m      7\u001b[0m             \u001b[0my_db\u001b[0m \u001b[0;34m=\u001b[0m \u001b[0mdb\u001b[0m\u001b[0;34m.\u001b[0m\u001b[0mfit_predict\u001b[0m\u001b[0;34m(\u001b[0m\u001b[0mp_val\u001b[0m\u001b[0;34m.\u001b[0m\u001b[0mreshape\u001b[0m\u001b[0;34m(\u001b[0m\u001b[0;34m-\u001b[0m\u001b[0;36m1\u001b[0m\u001b[0;34m,\u001b[0m \u001b[0;36m1\u001b[0m\u001b[0;34m)\u001b[0m\u001b[0;34m)\u001b[0m\u001b[0;34m\u001b[0m\u001b[0m\n\u001b[1;32m      8\u001b[0m             \u001b[0mthreshold\u001b[0m \u001b[0;34m=\u001b[0m \u001b[0mnp\u001b[0m\u001b[0;34m.\u001b[0m\u001b[0mmax\u001b[0m\u001b[0;34m(\u001b[0m\u001b[0mp_val\u001b[0m\u001b[0;34m[\u001b[0m\u001b[0my_db\u001b[0m \u001b[0;34m==\u001b[0m \u001b[0;34m-\u001b[0m\u001b[0;36m1\u001b[0m\u001b[0;34m]\u001b[0m\u001b[0;34m)\u001b[0m\u001b[0;34m\u001b[0m\u001b[0m\n",
      "\u001b[0;31mAttributeError\u001b[0m: 'numpy.float64' object has no attribute 'log'"
     ]
    }
   ],
   "source": [
    "db = DBSCAN(eps=0.08, min_samples=500)\n",
    "for i in range(0, df.shape[0]):\n",
    "            p_val = df.loc[i][2:]\n",
    "            p_val = np.asarray(p_val)\n",
    "            p_val = p_val[np.logical_not(pd.isnull(p_val))]\n",
    "            p_val = np.log(p_val)\n",
    "            y_db = db.fit_predict(p_val.reshape(-1, 1))\n",
    "            threshold = np.max(p_val[y_db == -1])\n",
    "            n_clusters = len(set(db.labels_))\n",
    "            plt.scatter(p_val, [i / 10] * len(p_val), c=y_db)\n",
    "plt.show()"
   ]
  },
  {
   "cell_type": "code",
   "execution_count": 23,
   "metadata": {},
   "outputs": [
    {
     "data": {
      "text/plain": [
       "numpy.float64"
      ]
     },
     "execution_count": 23,
     "metadata": {},
     "output_type": "execute_result"
    }
   ],
   "source": [
    "type(p_val[1])"
   ]
  },
  {
   "cell_type": "code",
   "execution_count": 24,
   "metadata": {},
   "outputs": [
    {
     "data": {
      "text/plain": [
       "float"
      ]
     },
     "execution_count": 24,
     "metadata": {},
     "output_type": "execute_result"
    }
   ],
   "source": [
    "type(np.nan)"
   ]
  },
  {
   "cell_type": "code",
   "execution_count": 35,
   "metadata": {},
   "outputs": [
    {
     "data": {
      "text/plain": [
       "array([ True,  True,  True, ...,  True,  True,  True])"
      ]
     },
     "execution_count": 35,
     "metadata": {},
     "output_type": "execute_result"
    }
   ],
   "source": [
    "pd.isnull(p_val)"
   ]
  },
  {
   "cell_type": "code",
   "execution_count": 40,
   "metadata": {},
   "outputs": [
    {
     "data": {
      "text/plain": [
       "module"
      ]
     },
     "execution_count": 40,
     "metadata": {},
     "output_type": "execute_result"
    }
   ],
   "source": [
    "type(np)"
   ]
  },
  {
   "cell_type": "code",
   "execution_count": null,
   "metadata": {},
   "outputs": [],
   "source": []
  }
 ],
 "metadata": {
  "kernelspec": {
   "display_name": "Python 3",
   "language": "python",
   "name": "python3"
  },
  "language_info": {
   "codemirror_mode": {
    "name": "ipython",
    "version": 3
   },
   "file_extension": ".py",
   "mimetype": "text/x-python",
   "name": "python",
   "nbconvert_exporter": "python",
   "pygments_lexer": "ipython3",
   "version": "3.6.6"
  }
 },
 "nbformat": 4,
 "nbformat_minor": 2
}
